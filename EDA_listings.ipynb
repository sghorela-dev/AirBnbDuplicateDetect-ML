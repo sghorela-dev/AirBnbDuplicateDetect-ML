{
 "cells": [
  {
   "cell_type": "markdown",
   "metadata": {
    "collapsed": false
   },
   "source": [
    "# Exploratory Data Analysis - Listing's Data."
   ]
  },
  {
   "cell_type": "code",
   "execution_count": 6,
   "metadata": {
    "ExecuteTime": {
     "start_time": "2023-04-24T02:14:25.418573Z",
     "end_time": "2023-04-24T02:14:25.425518Z"
    },
    "collapsed": false
   },
   "outputs": [],
   "source": [
    "# imports required.\n",
    "import pandas as pd\n",
    "import numpy as np\n",
    "import seaborn as sns\n",
    "import matplotlib.pyplot as plt\n",
    "\n",
    "from sklearn.feature_extraction.text import CountVectorizer, TfidfVectorizer\n",
    "from sklearn.linear_model import LogisticRegression\n",
    "\n",
    "%config InlineBackend.figure_format = 'svg'\n",
    "%matplotlib inline\n",
    "\n",
    "sns.set_theme(context=\"notebook\", style=\"dark-grid\", palette=\"dark\", font_scale=1.5)\n"
   ]
  },
  {
   "cell_type": "markdown",
   "metadata": {
    "collapsed": false
   },
   "source": [
    "## Load Clean Listing's Data from csv."
   ]
  },
  {
   "cell_type": "code",
   "execution_count": 7,
   "metadata": {
    "ExecuteTime": {
     "start_time": "2023-04-24T02:14:25.423541Z",
     "end_time": "2023-04-24T02:14:26.604205Z"
    },
    "collapsed": false
   },
   "outputs": [
    {
     "data": {
      "text/plain": "(69332, 38)"
     },
     "execution_count": 7,
     "metadata": {},
     "output_type": "execute_result"
    }
   ],
   "source": [
    "# Load listing's data from the listings csv.\n",
    "listings_df = pd.read_csv('../../data/interim/cleaned-listings.csv')\n",
    "listings_df.shape"
   ]
  },
  {
   "cell_type": "markdown",
   "source": [
    "## Column with text data - 'name', 'description', 'neighborhood_overview', 'property_type', 'amenities'.\n",
    "> We'll consider NLP for these column's, to see if we can extract useful information which is not included in remaining column's."
   ],
   "metadata": {
    "collapsed": false
   }
  },
  {
   "attachments": {},
   "cell_type": "markdown",
   "metadata": {
    "collapsed": false
   },
   "source": [
    "# Save Processed Data to csv file for modelling."
   ]
  },
  {
   "cell_type": "code",
   "execution_count": 8,
   "metadata": {
    "ExecuteTime": {
     "start_time": "2023-04-24T02:14:26.605760Z",
     "end_time": "2023-04-24T02:14:28.637305Z"
    }
   },
   "outputs": [
    {
     "data": {
      "text/plain": "(69332, 38)"
     },
     "execution_count": 8,
     "metadata": {},
     "output_type": "execute_result"
    }
   ],
   "source": [
    "# Save processed listings data after feature engineering to csv file.\n",
    "listings_df.to_csv('../../data/processed/listings.csv', index=False)\n",
    "listings_df.shape"
   ]
  }
 ],
 "metadata": {
  "kernelspec": {
   "display_name": "Python 3",
   "language": "python",
   "name": "python3"
  },
  "language_info": {
   "codemirror_mode": {
    "name": "ipython",
    "version": 2
   },
   "file_extension": ".py",
   "mimetype": "text/x-python",
   "name": "python",
   "nbconvert_exporter": "python",
   "pygments_lexer": "ipython2",
   "version": "2.7.6"
  }
 },
 "nbformat": 4,
 "nbformat_minor": 0
}
