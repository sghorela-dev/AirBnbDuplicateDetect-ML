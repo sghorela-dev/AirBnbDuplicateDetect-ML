{
 "cells": [
  {
   "cell_type": "markdown",
   "metadata": {},
   "source": [
    "# Data Cleaning - Listing's Data.\n",
    "- Drop listing's with necessary but missing values.\n",
    "- Drop Unnecessary columns without any useful values.\n",
    "- Cast the data into relevant data type."
   ]
  },
  {
   "cell_type": "code",
   "execution_count": 1,
   "metadata": {
    "ExecuteTime": {
     "end_time": "2023-04-24T02:24:09.848187Z",
     "start_time": "2023-04-24T02:24:09.833289Z"
    }
   },
   "outputs": [
    {
     "ename": "ValueError",
     "evalue": "style must be one of white, dark, whitegrid, darkgrid, ticks",
     "output_type": "error",
     "traceback": [
      "\u001B[0;31m---------------------------------------------------------------------------\u001B[0m",
      "\u001B[0;31mValueError\u001B[0m                                Traceback (most recent call last)",
      "Cell \u001B[0;32mIn[1], line 13\u001B[0m\n\u001B[1;32m     10\u001B[0m get_ipython()\u001B[38;5;241m.\u001B[39mrun_line_magic(\u001B[38;5;124m'\u001B[39m\u001B[38;5;124mconfig\u001B[39m\u001B[38;5;124m'\u001B[39m, \u001B[38;5;124m\"\u001B[39m\u001B[38;5;124mInlineBackend.figure_format = \u001B[39m\u001B[38;5;124m'\u001B[39m\u001B[38;5;124msvg\u001B[39m\u001B[38;5;124m'\u001B[39m\u001B[38;5;124m\"\u001B[39m)\n\u001B[1;32m     11\u001B[0m get_ipython()\u001B[38;5;241m.\u001B[39mrun_line_magic(\u001B[38;5;124m'\u001B[39m\u001B[38;5;124mmatplotlib\u001B[39m\u001B[38;5;124m'\u001B[39m, \u001B[38;5;124m'\u001B[39m\u001B[38;5;124minline\u001B[39m\u001B[38;5;124m'\u001B[39m)\n\u001B[0;32m---> 13\u001B[0m \u001B[43msns\u001B[49m\u001B[38;5;241;43m.\u001B[39;49m\u001B[43mset_theme\u001B[49m\u001B[43m(\u001B[49m\u001B[43mcontext\u001B[49m\u001B[38;5;241;43m=\u001B[39;49m\u001B[38;5;124;43m\"\u001B[39;49m\u001B[38;5;124;43mnotebook\u001B[39;49m\u001B[38;5;124;43m\"\u001B[39;49m\u001B[43m,\u001B[49m\u001B[43m \u001B[49m\u001B[43mstyle\u001B[49m\u001B[38;5;241;43m=\u001B[39;49m\u001B[38;5;124;43m\"\u001B[39;49m\u001B[38;5;124;43mdark-grid\u001B[39;49m\u001B[38;5;124;43m\"\u001B[39;49m\u001B[43m,\u001B[49m\u001B[43m \u001B[49m\u001B[43mpalette\u001B[49m\u001B[38;5;241;43m=\u001B[39;49m\u001B[38;5;124;43m\"\u001B[39;49m\u001B[38;5;124;43mdark\u001B[39;49m\u001B[38;5;124;43m\"\u001B[39;49m\u001B[43m,\u001B[49m\u001B[43m \u001B[49m\u001B[43mfont_scale\u001B[49m\u001B[38;5;241;43m=\u001B[39;49m\u001B[38;5;241;43m1.5\u001B[39;49m\u001B[43m)\u001B[49m\n",
      "File \u001B[0;32m~/anaconda3/envs/AirBnB-ML/lib/python3.8/site-packages/seaborn/rcmod.py:120\u001B[0m, in \u001B[0;36mset_theme\u001B[0;34m(context, style, palette, font, font_scale, color_codes, rc)\u001B[0m\n\u001B[1;32m     84\u001B[0m \u001B[38;5;124;03m\"\"\"\u001B[39;00m\n\u001B[1;32m     85\u001B[0m \u001B[38;5;124;03mSet aspects of the visual theme for all matplotlib and seaborn plots.\u001B[39;00m\n\u001B[1;32m     86\u001B[0m \n\u001B[0;32m   (...)\u001B[0m\n\u001B[1;32m    117\u001B[0m \n\u001B[1;32m    118\u001B[0m \u001B[38;5;124;03m\"\"\"\u001B[39;00m\n\u001B[1;32m    119\u001B[0m set_context(context, font_scale)\n\u001B[0;32m--> 120\u001B[0m \u001B[43mset_style\u001B[49m\u001B[43m(\u001B[49m\u001B[43mstyle\u001B[49m\u001B[43m,\u001B[49m\u001B[43m \u001B[49m\u001B[43mrc\u001B[49m\u001B[38;5;241;43m=\u001B[39;49m\u001B[43m{\u001B[49m\u001B[38;5;124;43m\"\u001B[39;49m\u001B[38;5;124;43mfont.family\u001B[39;49m\u001B[38;5;124;43m\"\u001B[39;49m\u001B[43m:\u001B[49m\u001B[43m \u001B[49m\u001B[43mfont\u001B[49m\u001B[43m}\u001B[49m\u001B[43m)\u001B[49m\n\u001B[1;32m    121\u001B[0m set_palette(palette, color_codes\u001B[38;5;241m=\u001B[39mcolor_codes)\n\u001B[1;32m    122\u001B[0m \u001B[38;5;28;01mif\u001B[39;00m rc \u001B[38;5;129;01mis\u001B[39;00m \u001B[38;5;129;01mnot\u001B[39;00m \u001B[38;5;28;01mNone\u001B[39;00m:\n",
      "File \u001B[0;32m~/anaconda3/envs/AirBnB-ML/lib/python3.8/site-packages/seaborn/rcmod.py:331\u001B[0m, in \u001B[0;36mset_style\u001B[0;34m(style, rc)\u001B[0m\n\u001B[1;32m    303\u001B[0m \u001B[38;5;28;01mdef\u001B[39;00m \u001B[38;5;21mset_style\u001B[39m(style\u001B[38;5;241m=\u001B[39m\u001B[38;5;28;01mNone\u001B[39;00m, rc\u001B[38;5;241m=\u001B[39m\u001B[38;5;28;01mNone\u001B[39;00m):\n\u001B[1;32m    304\u001B[0m     \u001B[38;5;124;03m\"\"\"\u001B[39;00m\n\u001B[1;32m    305\u001B[0m \u001B[38;5;124;03m    Set the parameters that control the general style of the plots.\u001B[39;00m\n\u001B[1;32m    306\u001B[0m \n\u001B[0;32m   (...)\u001B[0m\n\u001B[1;32m    329\u001B[0m \n\u001B[1;32m    330\u001B[0m \u001B[38;5;124;03m    \"\"\"\u001B[39;00m\n\u001B[0;32m--> 331\u001B[0m     style_object \u001B[38;5;241m=\u001B[39m \u001B[43maxes_style\u001B[49m\u001B[43m(\u001B[49m\u001B[43mstyle\u001B[49m\u001B[43m,\u001B[49m\u001B[43m \u001B[49m\u001B[43mrc\u001B[49m\u001B[43m)\u001B[49m\n\u001B[1;32m    332\u001B[0m     mpl\u001B[38;5;241m.\u001B[39mrcParams\u001B[38;5;241m.\u001B[39mupdate(style_object)\n",
      "File \u001B[0;32m~/anaconda3/envs/AirBnB-ML/lib/python3.8/site-packages/seaborn/rcmod.py:185\u001B[0m, in \u001B[0;36maxes_style\u001B[0;34m(style, rc)\u001B[0m\n\u001B[1;32m    183\u001B[0m styles \u001B[38;5;241m=\u001B[39m [\u001B[38;5;124m\"\u001B[39m\u001B[38;5;124mwhite\u001B[39m\u001B[38;5;124m\"\u001B[39m, \u001B[38;5;124m\"\u001B[39m\u001B[38;5;124mdark\u001B[39m\u001B[38;5;124m\"\u001B[39m, \u001B[38;5;124m\"\u001B[39m\u001B[38;5;124mwhitegrid\u001B[39m\u001B[38;5;124m\"\u001B[39m, \u001B[38;5;124m\"\u001B[39m\u001B[38;5;124mdarkgrid\u001B[39m\u001B[38;5;124m\"\u001B[39m, \u001B[38;5;124m\"\u001B[39m\u001B[38;5;124mticks\u001B[39m\u001B[38;5;124m\"\u001B[39m]\n\u001B[1;32m    184\u001B[0m \u001B[38;5;28;01mif\u001B[39;00m style \u001B[38;5;129;01mnot\u001B[39;00m \u001B[38;5;129;01min\u001B[39;00m styles:\n\u001B[0;32m--> 185\u001B[0m     \u001B[38;5;28;01mraise\u001B[39;00m \u001B[38;5;167;01mValueError\u001B[39;00m(\u001B[38;5;124mf\u001B[39m\u001B[38;5;124m\"\u001B[39m\u001B[38;5;124mstyle must be one of \u001B[39m\u001B[38;5;132;01m{\u001B[39;00m\u001B[38;5;124m'\u001B[39m\u001B[38;5;124m, \u001B[39m\u001B[38;5;124m'\u001B[39m\u001B[38;5;241m.\u001B[39mjoin(styles)\u001B[38;5;132;01m}\u001B[39;00m\u001B[38;5;124m\"\u001B[39m)\n\u001B[1;32m    187\u001B[0m \u001B[38;5;66;03m# Define colors here\u001B[39;00m\n\u001B[1;32m    188\u001B[0m dark_gray \u001B[38;5;241m=\u001B[39m \u001B[38;5;124m\"\u001B[39m\u001B[38;5;124m.15\u001B[39m\u001B[38;5;124m\"\u001B[39m\n",
      "\u001B[0;31mValueError\u001B[0m: style must be one of white, dark, whitegrid, darkgrid, ticks"
     ]
    }
   ],
   "source": [
    "# imports required.\n",
    "import pandas as pd\n",
    "import numpy as np\n",
    "import seaborn as sns\n",
    "import matplotlib.pyplot as plt\n",
    "\n",
    "from sklearn.feature_extraction.text import CountVectorizer, TfidfVectorizer\n",
    "from sklearn.linear_model import LogisticRegression\n",
    "\n",
    "%config InlineBackend.figure_format = 'svg'\n",
    "%matplotlib inline\n",
    "\n",
    "sns.set_theme(context=\"notebook\", style=\"darkgrid\", palette=\"dark\", font_scale=1.5)\n"
   ]
  },
  {
   "cell_type": "code",
   "execution_count": null,
   "metadata": {
    "ExecuteTime": {
     "end_time": "2023-04-24T02:24:11.776374Z",
     "start_time": "2023-04-24T02:24:09.839007Z"
    }
   },
   "outputs": [],
   "source": [
    "# Load listing's data from the listings csv.\n",
    "listings_df = pd.read_csv(\"../../data/raw/listings.csv\")\n",
    "listings_df.shape"
   ]
  },
  {
   "cell_type": "markdown",
   "metadata": {},
   "source": [
    "## Column - Price.\n",
    "- Remove signs '$' and 'Є' from price column.\n",
    "- Convert price column into float value.\n",
    "- Drop price column with '0' price."
   ]
  },
  {
   "cell_type": "code",
   "execution_count": null,
   "metadata": {
    "ExecuteTime": {
     "end_time": "2023-04-24T02:24:11.779793Z",
     "start_time": "2023-04-24T02:24:11.777675Z"
    }
   },
   "outputs": [],
   "source": [
    "def clearn_price(string):\n",
    "    string = string.replace(\"$\", \"\").replace(\"£\",\"\").replace(\",\",\"\")\n",
    "    return float(string)"
   ]
  },
  {
   "cell_type": "code",
   "execution_count": null,
   "metadata": {
    "ExecuteTime": {
     "end_time": "2023-04-24T02:24:11.869936Z",
     "start_time": "2023-04-24T02:24:11.832311Z"
    }
   },
   "outputs": [],
   "source": [
    "listings_df.price = listings_df.price.map(clearn_price)\n",
    "\n",
    "# drop listings with '0' as price.\n",
    "listings_df = listings_df[listings_df.price!= 0]\n",
    "listings_df.shape"
   ]
  },
  {
   "cell_type": "markdown",
   "metadata": {},
   "source": [
    "## Column - Drop Columns 'neighbourhood_group_cleansed', 'bathrooms', 'calendar_updated', 'license'.\n",
    "> Column's with no value/ empty through-out the listing's data.\n"
   ]
  },
  {
   "cell_type": "code",
   "execution_count": null,
   "metadata": {
    "ExecuteTime": {
     "end_time": "2023-04-24T02:24:11.918778Z",
     "start_time": "2023-04-24T02:24:11.873639Z"
    }
   },
   "outputs": [],
   "source": [
    "listings_df.drop(columns=['neighbourhood_group_cleansed', 'bathrooms', 'calendar_updated', 'license'], inplace=True)\n",
    "listings_df.shape"
   ]
  },
  {
   "cell_type": "markdown",
   "metadata": {},
   "source": [
    "## Column - Drop all the remaining columns redundant for analysis e.g. column's containing URL's."
   ]
  },
  {
   "cell_type": "code",
   "execution_count": null,
   "metadata": {
    "ExecuteTime": {
     "end_time": "2023-04-24T02:24:11.955038Z",
     "start_time": "2023-04-24T02:24:11.908919Z"
    }
   },
   "outputs": [],
   "source": [
    "listings_df.drop(columns=['listing_url', 'scrape_id', 'last_scraped', 'picture_url', \n",
    "'host_id', 'host_url', 'host_location', 'host_about', 'host_thumbnail_url', \n",
    "'host_picture_url', 'host_neighbourhood', 'host_verifications', 'host_has_profile_pic', \n",
    "'neighbourhood', 'calendar_last_scraped', 'calculated_host_listings_count_entire_homes', \n",
    "'calculated_host_listings_count_private_rooms', 'calculated_host_listings_count_shared_rooms', \n",
    "'minimum_nights', 'maximum_nights', 'minimum_minimum_nights', 'maximum_minimum_nights', \n",
    "'minimum_maximum_nights', 'maximum_maximum_nights',\n",
    "'bathrooms_text', 'beds', 'bedrooms', 'host_total_listings_count', \n",
    "'calculated_host_listings_count', 'has_availability',\n",
    "'host_since', 'first_review', 'last_review'], inplace=True)\n",
    "listings_df.shape"
   ]
  },
  {
   "cell_type": "markdown",
   "metadata": {},
   "source": [
    "# Data Cleaning -- Save Clean listings data frame to csv file."
   ]
  },
  {
   "cell_type": "code",
   "execution_count": null,
   "metadata": {
    "ExecuteTime": {
     "end_time": "2023-04-24T02:24:13.963342Z",
     "start_time": "2023-04-24T02:24:11.939842Z"
    }
   },
   "outputs": [],
   "source": [
    "# Save cleaned listings data frame to csv file.\n",
    "listings_df.to_csv('../../data/interim/cleaned-listings.csv', index=False)\n",
    "listings_df.shape"
   ]
  }
 ],
 "metadata": {
  "kernelspec": {
   "display_name": "Python 3 (ipykernel)",
   "language": "python",
   "name": "python3"
  },
  "language_info": {
   "codemirror_mode": {
    "name": "ipython",
    "version": 3
   },
   "file_extension": ".py",
   "mimetype": "text/x-python",
   "name": "python",
   "nbconvert_exporter": "python",
   "pygments_lexer": "ipython3",
   "version": "3.8.16"
  }
 },
 "nbformat": 4,
 "nbformat_minor": 1
}
