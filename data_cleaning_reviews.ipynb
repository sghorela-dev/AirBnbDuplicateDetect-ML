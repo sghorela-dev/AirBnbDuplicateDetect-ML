{
 "cells": [
  {
   "cell_type": "markdown",
   "metadata": {
    "collapsed": true
   },
   "source": [
    "# Data Cleaning - Reviews"
   ]
  },
  {
   "cell_type": "code",
   "execution_count": 2,
   "metadata": {
    "ExecuteTime": {
     "start_time": "2023-04-24T06:55:56.037806Z",
     "end_time": "2023-04-24T06:55:57.827948Z"
    }
   },
   "outputs": [],
   "source": [
    "# imports required.\n",
    "import pandas as pd\n",
    "import numpy as np\n",
    "import seaborn as sns\n",
    "import matplotlib.pyplot as plt\n",
    "\n",
    "from sklearn.feature_extraction.text import CountVectorizer, TfidfVectorizer\n",
    "from sklearn.linear_model import LogisticRegression\n",
    "from sklearn.cluster import KMeans\n",
    "\n",
    "%config InlineBackend.figure_format = 'svg'\n",
    "%matplotlib inline\n",
    "\n",
    "sns.set_theme(context=\"notebook\", style=\"darkgrid\", palette=\"dark\", font_scale=1.5)"
   ]
  },
  {
   "cell_type": "code",
   "execution_count": 3,
   "metadata": {
    "ExecuteTime": {
     "start_time": "2023-04-24T06:56:02.294186Z",
     "end_time": "2023-04-24T06:56:06.422726Z"
    }
   },
   "outputs": [
    {
     "data": {
      "text/plain": "(1216212, 6)"
     },
     "execution_count": 3,
     "metadata": {},
     "output_type": "execute_result"
    }
   ],
   "source": [
    "reviews_df = pd.read_csv(\"../../data/raw/reviews.csv\")\n",
    "reviews_df.shape"
   ]
  },
  {
   "cell_type": "code",
   "execution_count": 4,
   "metadata": {
    "ExecuteTime": {
     "start_time": "2023-04-24T06:56:07.086258Z",
     "end_time": "2023-04-24T06:56:08.075711Z"
    }
   },
   "outputs": [
    {
     "data": {
      "text/plain": "(1203116, 6)"
     },
     "execution_count": 4,
     "metadata": {},
     "output_type": "execute_result"
    }
   ],
   "source": [
    "reviews_df.dropna(inplace=True)\n",
    "reviews_df = reviews_df[~reviews_df['comments'].str.contains('This is an automated posting')]\n",
    "reviews_df.shape"
   ]
  },
  {
   "cell_type": "code",
   "execution_count": 5,
   "metadata": {
    "ExecuteTime": {
     "start_time": "2023-04-24T06:56:11.030659Z",
     "end_time": "2023-04-24T06:56:21.066047Z"
    }
   },
   "outputs": [
    {
     "name": "stderr",
     "output_type": "stream",
     "text": [
      "/var/folders/yt/p7wmctcx7b16npx6fznpw4j5v_rzkj/T/ipykernel_2533/2653515387.py:2: FutureWarning: The default value of regex will change from True to False in a future version.\n",
      "  reviews_df['comments'] = reviews_df['comments'].str.replace(r'[^a-zA-Z\\s]', '').str.replace(r'\\d+', '')\n"
     ]
    },
    {
     "data": {
      "text/plain": "(1203116, 6)"
     },
     "execution_count": 5,
     "metadata": {},
     "output_type": "execute_result"
    }
   ],
   "source": [
    "# Remove special characters and digits\n",
    "reviews_df['comments'] = reviews_df['comments'].str.replace(r'[^a-zA-Z\\s]', '').str.replace(r'\\d+', '')\n",
    "# Convert to lowercase\n",
    "reviews_df['comments'] = reviews_df['comments'].str.lower()\n",
    "reviews_df.shape"
   ]
  },
  {
   "cell_type": "code",
   "execution_count": 6,
   "metadata": {
    "ExecuteTime": {
     "start_time": "2023-04-24T06:56:21.251902Z",
     "end_time": "2023-04-24T06:56:21.260999Z"
    }
   },
   "outputs": [
    {
     "data": {
      "text/plain": "                 listing_id                  id        date  reviewer_id  \\\n0                  52228441  623723762668719111  2022-05-10     37052865   \n1                  52228441  505671819125096360  2021-11-28     70830110   \n2                  52228441  466510411892882382  2021-10-05     83617224   \n3                  52228441  604109461995958546  2022-04-13      2152541   \n4        605617198416835367  633128504578904919  2022-05-23     45418187   \n...                     ...                 ...         ...          ...   \n1216207            14832630           184884203  2017-08-20     54407484   \n1216208            14832630           173531056  2017-07-23    130284505   \n1216209            14832630           153170957  2017-05-20    119296298   \n1216210            14832630           145456398  2017-04-18     16394435   \n1216211            14832630           103611593  2016-09-23     65608870   \n\n        reviewer_name                                           comments  \n0            Kimberly  great location and the host was very responsiv...  \n1             Mahelet  duccio is a lovely and friendly host from arri...  \n2                Will  duccio is a good communicator he was very help...  \n3           Francesco  not entirely compliant to the picsbrgood locat...  \n4              Waddah                         great place and great host  \n...               ...                                                ...  \n1216207            丽云  brbrclean and comfortable suitable for family ...  \n1216208     Véronique  excellente situation au plein centre de londre...  \n1216209        Nicole  todo perfecto  ubicacin comodidad y rachel com...  \n1216210    Christophe  tout dabord mme si nous navons pas eu le plais...  \n1216211          Ping                                             rachel  \n\n[1203116 rows x 6 columns]",
      "text/html": "<div>\n<style scoped>\n    .dataframe tbody tr th:only-of-type {\n        vertical-align: middle;\n    }\n\n    .dataframe tbody tr th {\n        vertical-align: top;\n    }\n\n    .dataframe thead th {\n        text-align: right;\n    }\n</style>\n<table border=\"1\" class=\"dataframe\">\n  <thead>\n    <tr style=\"text-align: right;\">\n      <th></th>\n      <th>listing_id</th>\n      <th>id</th>\n      <th>date</th>\n      <th>reviewer_id</th>\n      <th>reviewer_name</th>\n      <th>comments</th>\n    </tr>\n  </thead>\n  <tbody>\n    <tr>\n      <th>0</th>\n      <td>52228441</td>\n      <td>623723762668719111</td>\n      <td>2022-05-10</td>\n      <td>37052865</td>\n      <td>Kimberly</td>\n      <td>great location and the host was very responsiv...</td>\n    </tr>\n    <tr>\n      <th>1</th>\n      <td>52228441</td>\n      <td>505671819125096360</td>\n      <td>2021-11-28</td>\n      <td>70830110</td>\n      <td>Mahelet</td>\n      <td>duccio is a lovely and friendly host from arri...</td>\n    </tr>\n    <tr>\n      <th>2</th>\n      <td>52228441</td>\n      <td>466510411892882382</td>\n      <td>2021-10-05</td>\n      <td>83617224</td>\n      <td>Will</td>\n      <td>duccio is a good communicator he was very help...</td>\n    </tr>\n    <tr>\n      <th>3</th>\n      <td>52228441</td>\n      <td>604109461995958546</td>\n      <td>2022-04-13</td>\n      <td>2152541</td>\n      <td>Francesco</td>\n      <td>not entirely compliant to the picsbrgood locat...</td>\n    </tr>\n    <tr>\n      <th>4</th>\n      <td>605617198416835367</td>\n      <td>633128504578904919</td>\n      <td>2022-05-23</td>\n      <td>45418187</td>\n      <td>Waddah</td>\n      <td>great place and great host</td>\n    </tr>\n    <tr>\n      <th>...</th>\n      <td>...</td>\n      <td>...</td>\n      <td>...</td>\n      <td>...</td>\n      <td>...</td>\n      <td>...</td>\n    </tr>\n    <tr>\n      <th>1216207</th>\n      <td>14832630</td>\n      <td>184884203</td>\n      <td>2017-08-20</td>\n      <td>54407484</td>\n      <td>丽云</td>\n      <td>brbrclean and comfortable suitable for family ...</td>\n    </tr>\n    <tr>\n      <th>1216208</th>\n      <td>14832630</td>\n      <td>173531056</td>\n      <td>2017-07-23</td>\n      <td>130284505</td>\n      <td>Véronique</td>\n      <td>excellente situation au plein centre de londre...</td>\n    </tr>\n    <tr>\n      <th>1216209</th>\n      <td>14832630</td>\n      <td>153170957</td>\n      <td>2017-05-20</td>\n      <td>119296298</td>\n      <td>Nicole</td>\n      <td>todo perfecto  ubicacin comodidad y rachel com...</td>\n    </tr>\n    <tr>\n      <th>1216210</th>\n      <td>14832630</td>\n      <td>145456398</td>\n      <td>2017-04-18</td>\n      <td>16394435</td>\n      <td>Christophe</td>\n      <td>tout dabord mme si nous navons pas eu le plais...</td>\n    </tr>\n    <tr>\n      <th>1216211</th>\n      <td>14832630</td>\n      <td>103611593</td>\n      <td>2016-09-23</td>\n      <td>65608870</td>\n      <td>Ping</td>\n      <td>rachel</td>\n    </tr>\n  </tbody>\n</table>\n<p>1203116 rows × 6 columns</p>\n</div>"
     },
     "execution_count": 6,
     "metadata": {},
     "output_type": "execute_result"
    }
   ],
   "source": [
    "reviews_df"
   ]
  },
  {
   "cell_type": "code",
   "execution_count": 7,
   "metadata": {
    "ExecuteTime": {
     "start_time": "2023-04-24T06:56:25.121293Z",
     "end_time": "2023-04-24T06:56:25.124752Z"
    }
   },
   "outputs": [
    {
     "data": {
      "text/plain": "(1203116, 4)"
     },
     "execution_count": 7,
     "metadata": {},
     "output_type": "execute_result"
    }
   ],
   "source": [
    "reviews_df.drop(columns=[\"date\", \"reviewer_name\"], inplace=True)\n",
    "reviews_df.shape"
   ]
  },
  {
   "cell_type": "code",
   "execution_count": 8,
   "metadata": {
    "scrolled": true,
    "ExecuteTime": {
     "start_time": "2023-04-24T06:56:29.748943Z",
     "end_time": "2023-04-24T06:56:29.762251Z"
    }
   },
   "outputs": [
    {
     "data": {
      "text/plain": "                 listing_id                  id  reviewer_id  \\\n0                  52228441  623723762668719111     37052865   \n1                  52228441  505671819125096360     70830110   \n2                  52228441  466510411892882382     83617224   \n3                  52228441  604109461995958546      2152541   \n4        605617198416835367  633128504578904919     45418187   \n...                     ...                 ...          ...   \n1216207            14832630           184884203     54407484   \n1216208            14832630           173531056    130284505   \n1216209            14832630           153170957    119296298   \n1216210            14832630           145456398     16394435   \n1216211            14832630           103611593     65608870   \n\n                                                  comments  \n0        great location and the host was very responsiv...  \n1        duccio is a lovely and friendly host from arri...  \n2        duccio is a good communicator he was very help...  \n3        not entirely compliant to the picsbrgood locat...  \n4                               great place and great host  \n...                                                    ...  \n1216207  brbrclean and comfortable suitable for family ...  \n1216208  excellente situation au plein centre de londre...  \n1216209  todo perfecto  ubicacin comodidad y rachel com...  \n1216210  tout dabord mme si nous navons pas eu le plais...  \n1216211                                             rachel  \n\n[1203116 rows x 4 columns]",
      "text/html": "<div>\n<style scoped>\n    .dataframe tbody tr th:only-of-type {\n        vertical-align: middle;\n    }\n\n    .dataframe tbody tr th {\n        vertical-align: top;\n    }\n\n    .dataframe thead th {\n        text-align: right;\n    }\n</style>\n<table border=\"1\" class=\"dataframe\">\n  <thead>\n    <tr style=\"text-align: right;\">\n      <th></th>\n      <th>listing_id</th>\n      <th>id</th>\n      <th>reviewer_id</th>\n      <th>comments</th>\n    </tr>\n  </thead>\n  <tbody>\n    <tr>\n      <th>0</th>\n      <td>52228441</td>\n      <td>623723762668719111</td>\n      <td>37052865</td>\n      <td>great location and the host was very responsiv...</td>\n    </tr>\n    <tr>\n      <th>1</th>\n      <td>52228441</td>\n      <td>505671819125096360</td>\n      <td>70830110</td>\n      <td>duccio is a lovely and friendly host from arri...</td>\n    </tr>\n    <tr>\n      <th>2</th>\n      <td>52228441</td>\n      <td>466510411892882382</td>\n      <td>83617224</td>\n      <td>duccio is a good communicator he was very help...</td>\n    </tr>\n    <tr>\n      <th>3</th>\n      <td>52228441</td>\n      <td>604109461995958546</td>\n      <td>2152541</td>\n      <td>not entirely compliant to the picsbrgood locat...</td>\n    </tr>\n    <tr>\n      <th>4</th>\n      <td>605617198416835367</td>\n      <td>633128504578904919</td>\n      <td>45418187</td>\n      <td>great place and great host</td>\n    </tr>\n    <tr>\n      <th>...</th>\n      <td>...</td>\n      <td>...</td>\n      <td>...</td>\n      <td>...</td>\n    </tr>\n    <tr>\n      <th>1216207</th>\n      <td>14832630</td>\n      <td>184884203</td>\n      <td>54407484</td>\n      <td>brbrclean and comfortable suitable for family ...</td>\n    </tr>\n    <tr>\n      <th>1216208</th>\n      <td>14832630</td>\n      <td>173531056</td>\n      <td>130284505</td>\n      <td>excellente situation au plein centre de londre...</td>\n    </tr>\n    <tr>\n      <th>1216209</th>\n      <td>14832630</td>\n      <td>153170957</td>\n      <td>119296298</td>\n      <td>todo perfecto  ubicacin comodidad y rachel com...</td>\n    </tr>\n    <tr>\n      <th>1216210</th>\n      <td>14832630</td>\n      <td>145456398</td>\n      <td>16394435</td>\n      <td>tout dabord mme si nous navons pas eu le plais...</td>\n    </tr>\n    <tr>\n      <th>1216211</th>\n      <td>14832630</td>\n      <td>103611593</td>\n      <td>65608870</td>\n      <td>rachel</td>\n    </tr>\n  </tbody>\n</table>\n<p>1203116 rows × 4 columns</p>\n</div>"
     },
     "execution_count": 8,
     "metadata": {},
     "output_type": "execute_result"
    }
   ],
   "source": [
    "reviews_df"
   ]
  },
  {
   "cell_type": "code",
   "execution_count": null,
   "metadata": {
    "pycharm": {
     "is_executing": true
    }
   },
   "outputs": [
    {
     "name": "stderr",
     "output_type": "stream",
     "text": [
      "/Users/vaibhav1.bishnoi/anaconda3/envs/AirBnB-ML/lib/python3.8/site-packages/sklearn/cluster/_kmeans.py:870: FutureWarning: The default value of `n_init` will change from 10 to 'auto' in 1.4. Set the value of `n_init` explicitly to suppress the warning\n",
      "  warnings.warn(\n"
     ]
    }
   ],
   "source": [
    "\n",
    "# Extract the comments and reviewer IDs into separate arrays\n",
    "comments = reviews_df['comments'].values\n",
    "reviewer_ids = reviews_df['reviewer_id'].values\n",
    "\n",
    "# Use TfidfVectorizer to convert the comments to a TF-IDF matrix\n",
    "vectorizer = TfidfVectorizer(stop_words='english')\n",
    "tfidf_matrix = vectorizer.fit_transform(comments)\n",
    "\n",
    "# Use KMeans to cluster the reviewers based on their comments\n",
    "num_clusters = 5\n",
    "km = KMeans(n_clusters=num_clusters)\n",
    "km.fit(tfidf_matrix)\n",
    "\n",
    "# Create a dictionary to map reviewer IDs to cluster labels\n",
    "labels = km.labels_\n",
    "cluster_map = {}\n",
    "for i in range(len(reviewer_ids)):\n",
    "    cluster_map[reviewer_ids[i]] = labels[i]\n",
    "    \n",
    "\n",
    "# Print the resulting cluster assignments for each reviewer ID\n",
    "print(cluster_map)"
   ]
  },
  {
   "cell_type": "markdown",
   "metadata": {},
   "source": [
    "# Save Reviews Data to csv."
   ]
  },
  {
   "cell_type": "code",
   "execution_count": null,
   "metadata": {},
   "outputs": [],
   "source": [
    "# Save cleaned listings data frame to csv file.\n",
    "reviews_df.to_csv('../../data/interim/cleaned-reviews.csv', index=False)\n",
    "reviews_df.shape"
   ]
  }
 ],
 "metadata": {
  "kernelspec": {
   "display_name": "Python 3 (ipykernel)",
   "language": "python",
   "name": "python3"
  },
  "language_info": {
   "codemirror_mode": {
    "name": "ipython",
    "version": 3
   },
   "file_extension": ".py",
   "mimetype": "text/x-python",
   "name": "python",
   "nbconvert_exporter": "python",
   "pygments_lexer": "ipython3",
   "version": "3.8.16"
  }
 },
 "nbformat": 4,
 "nbformat_minor": 1
}
